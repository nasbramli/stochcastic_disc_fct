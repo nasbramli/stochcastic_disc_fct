{
 "cells": [
  {
   "cell_type": "markdown",
   "id": "30acc79f",
   "metadata": {},
   "source": [
    "### ln_g = 0.02 + 0.02ε + ν"
   ]
  },
  {
   "cell_type": "code",
   "execution_count": 14,
   "id": "35597d50",
   "metadata": {},
   "outputs": [
    {
     "name": "stderr",
     "output_type": "stream",
     "text": [
      "/Users/nasruddinislambinramli/anaconda3/lib/python3.11/site-packages/pandas/core/arrays/masked.py:60: UserWarning: Pandas requires version '1.3.6' or newer of 'bottleneck' (version '1.3.5' currently installed).\n",
      "  from pandas.core import (\n"
     ]
    }
   ],
   "source": [
    "import numpy as np\n",
    "import matplotlib.pyplot as plt\n",
    "import pandas as pd"
   ]
  },
  {
   "cell_type": "code",
   "execution_count": 2,
   "id": "509b474b",
   "metadata": {},
   "outputs": [],
   "source": [
    "nu_prob = 0.983\n",
    "n_simulations = 10000\n",
    "nu_disaster = np.log(0.65)"
   ]
  },
  {
   "cell_type": "code",
   "execution_count": 3,
   "id": "813f543c",
   "metadata": {},
   "outputs": [],
   "source": [
    "epsilon =\\\n",
    "(\n",
    "    np\n",
    "    .random\n",
    "    .normal(0, 1, n_simulations)\n",
    ")"
   ]
  },
  {
   "cell_type": "code",
   "execution_count": 4,
   "id": "c46a18ee",
   "metadata": {},
   "outputs": [],
   "source": [
    "nu =\\\n",
    "(\n",
    "    np\n",
    "    .where(np.random.uniform(0, 1, n_simulations) > nu_prob, nu_disaster, 0)\n",
    ")"
   ]
  },
  {
   "cell_type": "code",
   "execution_count": 5,
   "id": "a2a36817",
   "metadata": {},
   "outputs": [],
   "source": [
    "ln_g =\\\n",
    "(\n",
    "    0.02 + 0.02*epsilon + nu\n",
    ")"
   ]
  },
  {
   "cell_type": "code",
   "execution_count": 6,
   "id": "4c670116",
   "metadata": {},
   "outputs": [],
   "source": [
    "g =\\\n",
    "(\n",
    "    np\n",
    "    .exp(ln_g)\n",
    ")"
   ]
  },
  {
   "cell_type": "code",
   "execution_count": 7,
   "id": "86260c32",
   "metadata": {},
   "outputs": [],
   "source": [
    "gamma =\\\n",
    "(\n",
    "    np\n",
    "    .arange(1,\n",
    "            4.1,\n",
    "            0.1)\n",
    ")"
   ]
  },
  {
   "cell_type": "code",
   "execution_count": 8,
   "id": "14b6867e",
   "metadata": {},
   "outputs": [],
   "source": [
    "volatility_ratio = []"
   ]
  },
  {
   "cell_type": "code",
   "execution_count": 9,
   "id": "877e34d2",
   "metadata": {
    "scrolled": true
   },
   "outputs": [],
   "source": [
    "for i in gamma:\n",
    "    M =\\\n",
    "    (\n",
    "        0.99 * g **(-i)\n",
    "    )\n",
    "    \n",
    "    M_mean =\\\n",
    "    (\n",
    "        np\n",
    "        .mean(M)    \n",
    "    )\n",
    "    \n",
    "    M_std =\\\n",
    "    (\n",
    "        np\n",
    "        .std(M) \n",
    "    )\n",
    "    \n",
    "    vol_r =\\\n",
    "    (\n",
    "        M_std\n",
    "        /\n",
    "        M_mean\n",
    "    )\n",
    "    \n",
    "    volatility_ratio.append(vol_r)"
   ]
  },
  {
   "cell_type": "code",
   "execution_count": 15,
   "id": "557eed2c",
   "metadata": {},
   "outputs": [],
   "source": [
    "vol_ratio_df = pd.DataFrame(data=volatility_ratio).rename(columns={0:\"ratio\"})"
   ]
  },
  {
   "cell_type": "code",
   "execution_count": 16,
   "id": "504c1ca6",
   "metadata": {
    "scrolled": true
   },
   "outputs": [
    {
     "data": {
      "text/html": [
       "<div>\n",
       "<style scoped>\n",
       "    .dataframe tbody tr th:only-of-type {\n",
       "        vertical-align: middle;\n",
       "    }\n",
       "\n",
       "    .dataframe tbody tr th {\n",
       "        vertical-align: top;\n",
       "    }\n",
       "\n",
       "    .dataframe thead th {\n",
       "        text-align: right;\n",
       "    }\n",
       "</style>\n",
       "<table border=\"1\" class=\"dataframe\">\n",
       "  <thead>\n",
       "    <tr style=\"text-align: right;\">\n",
       "      <th></th>\n",
       "      <th>ratio</th>\n",
       "    </tr>\n",
       "  </thead>\n",
       "  <tbody>\n",
       "    <tr>\n",
       "      <th>0</th>\n",
       "      <td>0.071356</td>\n",
       "    </tr>\n",
       "    <tr>\n",
       "      <th>1</th>\n",
       "      <td>0.080115</td>\n",
       "    </tr>\n",
       "    <tr>\n",
       "      <th>2</th>\n",
       "      <td>0.089221</td>\n",
       "    </tr>\n",
       "    <tr>\n",
       "      <th>3</th>\n",
       "      <td>0.098688</td>\n",
       "    </tr>\n",
       "    <tr>\n",
       "      <th>4</th>\n",
       "      <td>0.108532</td>\n",
       "    </tr>\n",
       "    <tr>\n",
       "      <th>5</th>\n",
       "      <td>0.118767</td>\n",
       "    </tr>\n",
       "    <tr>\n",
       "      <th>6</th>\n",
       "      <td>0.129410</td>\n",
       "    </tr>\n",
       "    <tr>\n",
       "      <th>7</th>\n",
       "      <td>0.140478</td>\n",
       "    </tr>\n",
       "    <tr>\n",
       "      <th>8</th>\n",
       "      <td>0.151986</td>\n",
       "    </tr>\n",
       "    <tr>\n",
       "      <th>9</th>\n",
       "      <td>0.163953</td>\n",
       "    </tr>\n",
       "    <tr>\n",
       "      <th>10</th>\n",
       "      <td>0.176397</td>\n",
       "    </tr>\n",
       "    <tr>\n",
       "      <th>11</th>\n",
       "      <td>0.189335</td>\n",
       "    </tr>\n",
       "    <tr>\n",
       "      <th>12</th>\n",
       "      <td>0.202788</td>\n",
       "    </tr>\n",
       "    <tr>\n",
       "      <th>13</th>\n",
       "      <td>0.216775</td>\n",
       "    </tr>\n",
       "    <tr>\n",
       "      <th>14</th>\n",
       "      <td>0.231315</td>\n",
       "    </tr>\n",
       "    <tr>\n",
       "      <th>15</th>\n",
       "      <td>0.246431</td>\n",
       "    </tr>\n",
       "    <tr>\n",
       "      <th>16</th>\n",
       "      <td>0.262142</td>\n",
       "    </tr>\n",
       "    <tr>\n",
       "      <th>17</th>\n",
       "      <td>0.278471</td>\n",
       "    </tr>\n",
       "    <tr>\n",
       "      <th>18</th>\n",
       "      <td>0.295440</td>\n",
       "    </tr>\n",
       "    <tr>\n",
       "      <th>19</th>\n",
       "      <td>0.313071</td>\n",
       "    </tr>\n",
       "    <tr>\n",
       "      <th>20</th>\n",
       "      <td>0.331389</td>\n",
       "    </tr>\n",
       "    <tr>\n",
       "      <th>21</th>\n",
       "      <td>0.350417</td>\n",
       "    </tr>\n",
       "    <tr>\n",
       "      <th>22</th>\n",
       "      <td>0.370179</td>\n",
       "    </tr>\n",
       "    <tr>\n",
       "      <th>23</th>\n",
       "      <td>0.390700</td>\n",
       "    </tr>\n",
       "    <tr>\n",
       "      <th>24</th>\n",
       "      <td>0.412005</td>\n",
       "    </tr>\n",
       "    <tr>\n",
       "      <th>25</th>\n",
       "      <td>0.434120</td>\n",
       "    </tr>\n",
       "    <tr>\n",
       "      <th>26</th>\n",
       "      <td>0.457071</td>\n",
       "    </tr>\n",
       "    <tr>\n",
       "      <th>27</th>\n",
       "      <td>0.480884</td>\n",
       "    </tr>\n",
       "    <tr>\n",
       "      <th>28</th>\n",
       "      <td>0.505586</td>\n",
       "    </tr>\n",
       "    <tr>\n",
       "      <th>29</th>\n",
       "      <td>0.531204</td>\n",
       "    </tr>\n",
       "    <tr>\n",
       "      <th>30</th>\n",
       "      <td>0.557766</td>\n",
       "    </tr>\n",
       "  </tbody>\n",
       "</table>\n",
       "</div>"
      ],
      "text/plain": [
       "       ratio\n",
       "0   0.071356\n",
       "1   0.080115\n",
       "2   0.089221\n",
       "3   0.098688\n",
       "4   0.108532\n",
       "5   0.118767\n",
       "6   0.129410\n",
       "7   0.140478\n",
       "8   0.151986\n",
       "9   0.163953\n",
       "10  0.176397\n",
       "11  0.189335\n",
       "12  0.202788\n",
       "13  0.216775\n",
       "14  0.231315\n",
       "15  0.246431\n",
       "16  0.262142\n",
       "17  0.278471\n",
       "18  0.295440\n",
       "19  0.313071\n",
       "20  0.331389\n",
       "21  0.350417\n",
       "22  0.370179\n",
       "23  0.390700\n",
       "24  0.412005\n",
       "25  0.434120\n",
       "26  0.457071\n",
       "27  0.480884\n",
       "28  0.505586\n",
       "29  0.531204\n",
       "30  0.557766"
      ]
     },
     "execution_count": 16,
     "metadata": {},
     "output_type": "execute_result"
    }
   ],
   "source": [
    "vol_ratio_df"
   ]
  },
  {
   "cell_type": "code",
   "execution_count": 17,
   "id": "70cf1513",
   "metadata": {},
   "outputs": [
    {
     "data": {
      "image/png": "[encoded data removed]",
      "text/plain": [
       "<Figure size 640x480 with 1 Axes>"
      ]
     },
     "metadata": {},
     "output_type": "display_data"
    }
   ],
   "source": [
    "plt\\\n",
    "    .plot(gamma, vol_ratio_df, label='volatility ratio (σM/μM)')\n",
    "\n",
    "plt\\\n",
    "    .axhline(y =0.4, color = 'red', linestyle = '--', label = 'threshold')\n",
    "\n",
    "plt\\\n",
    "    .axvline(x=3.32, color='red', linestyle='--', label='γ = 3.3 threshold')\n",
    "\n",
    "plt\\\n",
    "    .xlabel('γ(risk aversion)')\n",
    "\n",
    "plt\\\n",
    "    .ylabel('volatility ratio (σM/μM)')\n",
    "\n",
    "plt\\\n",
    "    .legend()\n",
    "\n",
    "plt\\\n",
    "    .grid()"
   ]
  },
  {
   "cell_type": "code",
   "execution_count": 18,
   "id": "e18dbe46",
   "metadata": {},
   "outputs": [
    {
     "name": "stdout",
     "output_type": "stream",
     "text": [
      "The smallest value of γ where σM / μM > 0.4 is 3.40\n"
     ]
    }
   ],
   "source": [
    "gamma_threshold = gamma[np.where(np.array(vol_ratio_df) >= 0.4)[0][0]]\n",
    "print(f\"The smallest value of γ where σM / μM > 0.4 is {gamma_threshold:.2f}\")"
   ]
  },
  {
   "cell_type": "code",
   "execution_count": 20,
   "id": "3a17d278",
   "metadata": {},
   "outputs": [],
   "source": [
    "index_of_volatility_ratio = vol_ratio_df[vol_ratio_df.ratio>0.4].idxmin()\n",
    "smallest_corresponding_gamma_value = gamma[index_of_volatility_ratio]"
   ]
  },
  {
   "cell_type": "code",
   "execution_count": 22,
   "id": "0fdba899",
   "metadata": {},
   "outputs": [
    {
     "data": {
      "text/plain": [
       "array([3.4])"
      ]
     },
     "execution_count": 22,
     "metadata": {},
     "output_type": "execute_result"
    }
   ],
   "source": [
    "smallest_corresponding_gamma_value"
   ]
  }
 ],
 "metadata": {
  "kernelspec": {
   "display_name": "Python 3 (ipykernel)",
   "language": "python",
   "name": "python3"
  },
  "language_info": {
   "codemirror_mode": {
    "name": "ipython",
    "version": 3
   },
   "file_extension": ".py",
   "mimetype": "text/x-python",
   "name": "python",
   "nbconvert_exporter": "python",
   "pygments_lexer": "ipython3",
   "version": "3.11.5"
  }
 },
 "nbformat": 4,
 "nbformat_minor": 5
}
